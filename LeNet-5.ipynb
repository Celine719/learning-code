{
 "cells": [
  {
   "cell_type": "code",
   "execution_count": 1,
   "id": "2f6f48d6",
   "metadata": {},
   "outputs": [
    {
     "data": {
      "text/plain": [
       "True"
      ]
     },
     "execution_count": 1,
     "metadata": {},
     "output_type": "execute_result"
    }
   ],
   "source": [
    "import torch\n",
    "import torchvision\n",
    "import torchvision.transforms as transforms\n",
    "import torch.nn.functional as F\n",
    "import torch.nn as nn\n",
    "import torch.optim as optim\n",
    "from matplotlib import pyplot as plt\n",
    "import time \n",
    "import os\n",
    "os.environ[\"KMP_DUPLICATE_LIB_OK\"]  =  \"TRUE\"\n",
    "\n",
    "# Define relevant variables for the ML task\n",
    "batch_size = 64\n",
    "num_classes = 10\n",
    "learning_rate = 0.001\n",
    "epoch = 5\n",
    "\n",
    "# Device will determine whether to run the training on GPU or CPU.\n",
    "torch.cuda.is_available()"
   ]
  },
  {
   "cell_type": "code",
   "execution_count": null,
   "id": "fc9fde56",
   "metadata": {},
   "outputs": [],
   "source": [
    "# Loading the dataset and preprocessing\n",
    "train_dataset = torchvision.datasets.MNIST(root = './dataset',\n",
    "                                           train = True, \n",
    "                                           transform = transforms.Compose([\n",
    "                                                  transforms.Resize((32,32)), # 将训练图像大小resize成(32,32)\n",
    "                                                  transforms.ToTensor(), #以张量形式存储\n",
    "                                                  transforms.Normalize(mean = (0.1307,), std = (0.3081,))]), \n",
    "                                                  #标准化，使训练集均值为0，标准差为1\n",
    "                                           download = False)\n",
    "\n",
    "\n",
    "test_dataset = torchvision.datasets.MNIST(root = './dataset',\n",
    "                                          train = False,\n",
    "                                          transform = transforms.Compose([\n",
    "                                                  transforms.Resize((32,32)),\n",
    "                                                  transforms.ToTensor(),\n",
    "                                                      transforms.Normalize(mean = (0.1325,), std = (0.3105,))]),\n",
    "                                          download=False)\n",
    "\n",
    "\n",
    "train_loader = torch.utils.data.DataLoader(dataset = train_dataset,\n",
    "                                           batch_size = batch_size,\n",
    "                                           shuffle = True)\n",
    "\n",
    "\n",
    "test_loader = torch.utils.data.DataLoader(dataset = test_dataset,\n",
    "                                           batch_size = batch_size,\n",
    "                                           shuffle = True)"
   ]
  },
  {
   "cell_type": "code",
   "execution_count": 3,
   "id": "d7b34872",
   "metadata": {},
   "outputs": [],
   "source": [
    "#Defining the convolutional neural network\n",
    "class LeNet5(nn.Module):\n",
    "    def __init__(self):\n",
    "        super(LeNet5,self).__init__()\n",
    "        self.C1 = nn.Conv2d(1, 6, kernel_size = 5, padding = 0, stride = 1)\n",
    "        self.ReLU = nn.ReLU()\n",
    "        self.S2 = nn.MaxPool2d(kernel_size = 2, stride = 2)\n",
    "        self.C3 = nn.Conv2d(6, 16, kernel_size = 5, padding = 0, stride = 1)\n",
    "        self.relu = nn.ReLU()\n",
    "        self.S4 = nn.MaxPool2d(kernel_size = 2, stride = 2)\n",
    "        self.C5 = nn.Conv2d(16, 120, kernel_size = 5, padding = 0, stride = 1)\n",
    "        self.relu1 = nn.ReLU()\n",
    "        self.F6 = nn.Linear(120, 84)\n",
    "        self.F7 = nn.Linear(84, 10)\n",
    "        \n",
    "    def forward(self, x):\n",
    "        out = self.C1(x)\n",
    "        out = self.relu(out)\n",
    "        out = self.S2(out)\n",
    "        out = self.C3(out)\n",
    "        out = self.relu(out)\n",
    "        out = self.S4(out)\n",
    "        out = self.C5(out)\n",
    "        out = self.relu1(out)\n",
    "        out = out.view(-1, 120)\n",
    "        out = self.F6(out)\n",
    "        out = self.relu1(out)\n",
    "        out = self.F7(out)\n",
    "        return out\n",
    "    "
   ]
  },
  {
   "cell_type": "code",
   "execution_count": 4,
   "id": "13d93e3b",
   "metadata": {},
   "outputs": [],
   "source": [
    "#创建模型,使用gpu\n",
    "device = torch.device(\"cuda\" if torch.cuda.is_available() else \"cpu\")\n",
    "model = LeNet5().to(device)\n",
    "#定义优化器\n",
    "optimizer = optim.Adam(model.parameters(), lr=0.001)"
   ]
  },
  {
   "cell_type": "code",
   "execution_count": 5,
   "id": "1870a423",
   "metadata": {},
   "outputs": [],
   "source": [
    "def train_runner(model, device, trainloader, optimizer, epoch):\n",
    "    #训练模型, 启用 BatchNormalization 和 Dropout, 将BatchNormalization和Dropout置为True\n",
    "    model.train()\n",
    "    total = 0\n",
    "    correct =0.0\n",
    "    #enumerate迭代已加载的数据集,同时获取数据和数据下标\n",
    "    for i, data in enumerate(trainloader, 0):\n",
    "        inputs, labels = data\n",
    "        #把模型部署到device上\n",
    "        inputs, labels = inputs.to(device), labels.to(device)\n",
    "        #初始化梯度\n",
    "        optimizer.zero_grad()\n",
    "        #保存训练结果\n",
    "        outputs = model(inputs)\n",
    "        #计算损失和\n",
    "        #多分类情况通常使用cross_entropy(交叉熵损失函数), 而对于二分类问题, 通常使用sigmod\n",
    "        loss = F.cross_entropy(outputs, labels)\n",
    "        #获取最大概率的预测结果\n",
    "        #dim=1表示返回每一行的最大值对应的列下标\n",
    "        predict = outputs.argmax(dim=1)\n",
    "        total += labels.size(0)\n",
    "        correct += (predict == labels).sum().item()\n",
    "        #反向传播\n",
    "        loss.backward()\n",
    "        #更新参数\n",
    "        optimizer.step()\n",
    "        if i % 1000 == 0:\n",
    "            #loss.item()表示当前loss的数值\n",
    "            print(\"Train Epoch{} \\t Loss: {:.6f}, accuracy: {:.6f}%\".format(epoch, loss.item(), 100*(correct/total)))\n",
    "            Loss.append(loss.item())\n",
    "            Accuracy.append(correct/total)\n",
    "    return loss.item(), correct/total\n"
   ]
  },
  {
   "cell_type": "code",
   "execution_count": 6,
   "id": "225f96e8",
   "metadata": {},
   "outputs": [],
   "source": [
    "def test_runner(model, device, testloader):\n",
    "    model.eval()\n",
    "    #统计模型正确率, 设置初始值\n",
    "    correct = 0.0\n",
    "    test_loss = 0.0\n",
    "    total = 0\n",
    "    #torch.no_grad将不会计算梯度, 也不会进行反向传播\n",
    "    with torch.no_grad():\n",
    "        for data, label in testloader:\n",
    "            data, label = data.to(device), label.to(device)\n",
    "            output = model(data)\n",
    "            test_loss += F.cross_entropy(output, label).item()\n",
    "            predict = output.argmax(dim=1)\n",
    "            #计算正确数量\n",
    "            total += label.size(0)\n",
    "            correct += (predict == label).sum().item()\n",
    "        #计算损失值\n",
    "        print(\"test_avarage_loss: {:.6f}, accuracy: {:.6f}%\".format(test_loss/total, 100*(correct/total)))\n",
    "\n"
   ]
  },
  {
   "cell_type": "code",
   "execution_count": 7,
   "id": "83b5c7e3",
   "metadata": {
    "scrolled": true
   },
   "outputs": [
    {
     "name": "stdout",
     "output_type": "stream",
     "text": [
      "start_time 2023-09-25 12:15:10\n",
      "Train Epoch1 \t Loss: 2.300405, accuracy: 9.375000%\n",
      "test_avarage_loss: 0.001150, accuracy: 97.480000%\n",
      "end_time:  2023-09-25 12:15:32 \n",
      "\n",
      "start_time 2023-09-25 12:15:32\n",
      "Train Epoch2 \t Loss: 0.212074, accuracy: 93.750000%\n",
      "test_avarage_loss: 0.000740, accuracy: 98.400000%\n",
      "end_time:  2023-09-25 12:15:53 \n",
      "\n",
      "start_time 2023-09-25 12:15:53\n",
      "Train Epoch3 \t Loss: 0.099115, accuracy: 98.437500%\n",
      "test_avarage_loss: 0.000537, accuracy: 98.760000%\n",
      "end_time:  2023-09-25 12:16:13 \n",
      "\n",
      "start_time 2023-09-25 12:16:13\n",
      "Train Epoch4 \t Loss: 0.008425, accuracy: 100.000000%\n",
      "test_avarage_loss: 0.000605, accuracy: 98.740000%\n",
      "end_time:  2023-09-25 12:16:34 \n",
      "\n",
      "start_time 2023-09-25 12:16:34\n",
      "Train Epoch5 \t Loss: 0.107049, accuracy: 98.437500%\n",
      "test_avarage_loss: 0.000639, accuracy: 98.560000%\n",
      "end_time:  2023-09-25 12:16:55 \n",
      "\n",
      "Finished Training\n"
     ]
    },
    {
     "data": {
      "image/png": "[encoded data removed]",
      "text/plain": [
       "<Figure size 640x480 with 1 Axes>"
      ]
     },
     "metadata": {},
     "output_type": "display_data"
    },
    {
     "data": {
      "image/png": "[encoded data removed]",
      "text/plain": [
       "<Figure size 640x480 with 1 Axes>"
      ]
     },
     "metadata": {},
     "output_type": "display_data"
    }
   ],
   "source": [
    "\n",
    "epoch = 5\n",
    "Loss = []\n",
    "Accuracy = []\n",
    "for epoch in range(1, epoch+1):\n",
    "    print(\"start_time\",time.strftime('%Y-%m-%d %H:%M:%S',time.localtime(time.time())))\n",
    "    loss, acc = train_runner(model, device, train_loader, optimizer, epoch)\n",
    "    Loss.append(loss)\n",
    "    Accuracy.append(acc)\n",
    "    test_runner(model, device, test_loader)\n",
    "    print(\"end_time: \",time.strftime('%Y-%m-%d %H:%M:%S',time.localtime(time.time())),'\\n')\n",
    "\n",
    "\n",
    "print('Finished Training')\n",
    "plt.subplot(2,1,1)\n",
    "plt.plot(Loss)\n",
    "plt.title('Loss')\n",
    "plt.show()\n",
    "plt.subplot(2,1,2)\n",
    "plt.plot(Accuracy)\n",
    "plt.title('Accuracy')\n",
    "plt.show()"
   ]
  },
  {
   "cell_type": "code",
   "execution_count": 9,
   "id": "4d250a92",
   "metadata": {
    "scrolled": true
   },
   "outputs": [
    {
     "name": "stdout",
     "output_type": "stream",
     "text": [
      "LeNet5(\n",
      "  (C1): Conv2d(1, 6, kernel_size=(5, 5), stride=(1, 1))\n",
      "  (ReLU): ReLU()\n",
      "  (S2): MaxPool2d(kernel_size=2, stride=2, padding=0, dilation=1, ceil_mode=False)\n",
      "  (C3): Conv2d(6, 16, kernel_size=(5, 5), stride=(1, 1))\n",
      "  (relu): ReLU()\n",
      "  (S4): MaxPool2d(kernel_size=2, stride=2, padding=0, dilation=1, ceil_mode=False)\n",
      "  (C5): Conv2d(16, 120, kernel_size=(5, 5), stride=(1, 1))\n",
      "  (relu1): ReLU()\n",
      "  (F6): Linear(in_features=120, out_features=84, bias=True)\n",
      "  (F7): Linear(in_features=84, out_features=10, bias=True)\n",
      ")\n"
     ]
    }
   ],
   "source": [
    "print(model)\n",
    "torch.save(model, 'model-mnist.pth') #保存模型"
   ]
  },
  {
   "cell_type": "code",
   "execution_count": 15,
   "id": "deab591e",
   "metadata": {},
   "outputs": [
    {
     "name": "stdout",
     "output_type": "stream",
     "text": [
      "Looking in indexes: https://pypi.tuna.tsinghua.edu.cn/simple\n",
      "Collecting opencv-python\n",
      "  Using cached https://pypi.tuna.tsinghua.edu.cn/packages/fb/c4/f574ba6f04e6d7bf8c38d23e7a52389566dd7631fee0bcdd79ea07ef2dbf/opencv_python-4.8.0.76-cp37-abi3-win_amd64.whl (38.1 MB)\n",
      "Requirement already satisfied: numpy>=1.21.2 in d:\\anaconda\\lib\\site-packages (from opencv-python) (1.23.5)\n",
      "Installing collected packages: opencv-python\n",
      "Successfully installed opencv-python-4.8.0.76\n"
     ]
    }
   ],
   "source": [
    "!pip install opencv-python"
   ]
  },
  {
   "cell_type": "code",
   "execution_count": 18,
   "id": "8ea43bd6",
   "metadata": {},
   "outputs": [
    {
     "data": {
      "image/png": "[encoded data removed]",
      "text/plain": [
       "<Figure size 640x480 with 1 Axes>"
      ]
     },
     "metadata": {},
     "output_type": "display_data"
    },
    {
     "name": "stdout",
     "output_type": "stream",
     "text": [
      "概率： tensor([[9.9999e-01, 5.5314e-08, 5.4166e-09, 3.4221e-08, 8.5611e-09, 2.0398e-06,\n",
      "         7.9398e-06, 9.2607e-08, 8.2606e-07, 3.9280e-07]], device='cuda:0',\n",
      "       grad_fn=<SoftmaxBackward0>)\n",
      "预测类别： 0\n"
     ]
    }
   ],
   "source": [
    "import cv2\n",
    "if __name__ == '__main__':\n",
    "    device = torch.device('cuda' if torch.cuda.is_available() else 'cpu')\n",
    "    model = torch.load('model-mnist.pth') #加载模型\n",
    "    model = model.to(device)\n",
    "    model.eval()    #把模型转为test模式\n",
    "\n",
    "\n",
    "    #读取要预测的图片\n",
    "    img = cv2.imread(\"test.png\")\n",
    "    img=cv2.resize(img,dsize=(32,32),interpolation=cv2.INTER_NEAREST)\n",
    "    plt.imshow(img,cmap=\"gray\") # 显示图片\n",
    "    plt.axis('off') # 不显示坐标轴\n",
    "    plt.show()\n",
    "\n",
    "\n",
    "    # 导入图片，图片扩展后为[1，1，32，32]\n",
    "    trans = transforms.Compose(\n",
    "        [\n",
    "            transforms.ToTensor(),\n",
    "            transforms.Normalize((0.1307,), (0.3081,))\n",
    "        ])\n",
    "    img = cv2.cvtColor(img, cv2.COLOR_BGR2GRAY)#图片转为灰度图，因为mnist数据集都是灰度图\n",
    "    img = trans(img)\n",
    "    img = img.to(device)\n",
    "    img = img.unsqueeze(0)  #图片扩展多一维,因为输入到保存的模型中是4维的[batch_size,通道,长，宽]，而普通图片只有三维，[通道,长，宽]\n",
    "    \n",
    "    # 预测 \n",
    "    output = model(img)\n",
    "    prob = F.softmax(output,dim=1) #prob是10个分类的概率\n",
    "    print(\"概率：\",prob)\n",
    "    value, predicted = torch.max(output.data, 1)\n",
    "    predict = output.argmax(dim=1)\n",
    "    print(\"预测类别：\",predict.item())"
   ]
  }
 ],
 "metadata": {
  "kernelspec": {
   "display_name": "pytorch",
   "language": "python",
   "name": "pytorch"
  },
  "language_info": {
   "codemirror_mode": {
    "name": "ipython",
    "version": 3
   },
   "file_extension": ".py",
   "mimetype": "text/x-python",
   "name": "python",
   "nbconvert_exporter": "python",
   "pygments_lexer": "ipython3",
   "version": "3.10.9"
  }
 },
 "nbformat": 4,
 "nbformat_minor": 5
}
