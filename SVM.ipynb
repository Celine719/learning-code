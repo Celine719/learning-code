{
 "cells": [
  {
   "cell_type": "code",
   "execution_count": 2,
   "id": "39fc7850",
   "metadata": {},
   "outputs": [
    {
     "name": "stdout",
     "output_type": "stream",
     "text": [
      "分类报告：\n",
      "              precision    recall  f1-score   support\n",
      "\n",
      "       False       0.87      0.71      0.78      1336\n",
      "        True       0.76      0.90      0.82      1370\n",
      "\n",
      "    accuracy                           0.81      2706\n",
      "   macro avg       0.82      0.80      0.80      2706\n",
      "weighted avg       0.82      0.81      0.80      2706\n",
      "\n"
     ]
    }
   ],
   "source": [
    "import numpy as np\n",
    "import pandas as pd\n",
    "from sklearn import preprocessing\n",
    "from sklearn.svm import SVC\n",
    "from sklearn.metrics import precision_score, recall_score, roc_auc_score, average_precision_score, f1_score\n",
    "from sklearn.model_selection import train_test_split\n",
    "from sklearn.metrics import classification_report\n",
    "\n",
    "\n",
    "trainingSet = pd.read_csv('F:\\\\yanjiusheng\\\\汇报\\\\data\\\\spaceship-titanic\\\\train1.csv',encoding='GBK')\n",
    "testSet = pd.read_csv('F:\\\\yanjiusheng\\\\汇报\\\\data\\\\spaceship-titanic\\\\test.csv')\n",
    "# trainingSet\n",
    "\n",
    "\n",
    "\n",
    "Destination = pd.get_dummies(trainingSet.Destination)\n",
    "Cabin = pd.get_dummies(trainingSet.Cabin)\n",
    "HomePlanet = pd.get_dummies(trainingSet.HomePlanet)\n",
    "\n",
    "trainData = pd.concat([HomePlanet, Cabin, Destination,trainingSet], axis = 1)\n",
    "trainData = trainData.drop(\"Destination\",axis = 1)\n",
    "trainData = trainData.drop(\"Cabin\",axis = 1)\n",
    "trainData = trainData.drop(\"HomePlanet\",axis = 1)\n",
    "trainData = trainData.drop(\"Name\",axis = 1)\n",
    "trainData = trainData.drop(\"PassengerId\",axis = 1)\n",
    "x_train, x_test, y_train, y_test = train_test_split(trainData.iloc[:,1:22], trainData['Transported'], train_size=0.6)  \n",
    "\n",
    "model = SVC(probability=True)\n",
    "model.fit(x_train, y_train)\n",
    "y_predict = model.predict(x_test)\n",
    "\n",
    "print(\"分类报告：\")\n",
    "print(classification_report(y_test, y_predict,zero_division=1))"
   ]
  },
  {
   "cell_type": "code",
   "execution_count": null,
   "id": "d12a08f1",
   "metadata": {},
   "outputs": [],
   "source": [
    " kernel='rbf', degree=3, gamma='auto', coef0=0.0, \n",
    "shrinking=True, probability=False, tol=0.001, cache_size=200,\n",
    " class_weight=None, verbose=False, max_iter=-1, decision_function_shape='ovr', random_state=None\n"
   ]
  },
  {
   "cell_type": "code",
   "execution_count": 4,
   "id": "49a94f22",
   "metadata": {},
   "outputs": [
    {
     "name": "stdout",
     "output_type": "stream",
     "text": [
      "分类报告：\n",
      "              precision    recall  f1-score   support\n",
      "\n",
      "           0       1.00      1.00      1.00        10\n",
      "           1       0.89      1.00      0.94        17\n",
      "           2       1.00      0.82      0.90        11\n",
      "\n",
      "    accuracy                           0.95        38\n",
      "   macro avg       0.96      0.94      0.95        38\n",
      "weighted avg       0.95      0.95      0.95        38\n",
      "\n"
     ]
    }
   ],
   "source": [
    "model = SVC(kernel='poly', degree=3, gamma='auto', coef0=0.0, \n",
    "shrinking=True, probability=False, tol=0.001, cache_size=200,\n",
    " class_weight=None, verbose=False, max_iter=-1, decision_function_shape='ovr', random_state=None)\n",
    "model.fit(x_train, y_train)\n",
    "y_predict = model.predict(x_test)\n",
    "\n",
    "print(\"分类报告：\")\n",
    "print(classification_report(y_test, y_predict,zero_division=1))"
   ]
  },
  {
   "cell_type": "code",
   "execution_count": 3,
   "id": "caad8617",
   "metadata": {},
   "outputs": [
    {
     "name": "stdout",
     "output_type": "stream",
     "text": [
      "分类报告：\n",
      "              precision    recall  f1-score   support\n",
      "\n",
      "           0       1.00      1.00      1.00        10\n",
      "           1       0.89      1.00      0.94        17\n",
      "           2       1.00      0.82      0.90        11\n",
      "\n",
      "    accuracy                           0.95        38\n",
      "   macro avg       0.96      0.94      0.95        38\n",
      "weighted avg       0.95      0.95      0.95        38\n",
      "\n"
     ]
    }
   ],
   "source": [
    "from sklearn import datasets\n",
    "# 1、获取数据集\n",
    "iris = datasets.load_iris()\n",
    "\n",
    "#数据详情\n",
    "# print(iris.data)\n",
    "# print(iris.feature_names)\n",
    "# print(iris.target)\n",
    "# print(iris.target_names)\n",
    "\n",
    "# 2、划分数据集\n",
    "x_train, x_test, y_train, y_test = train_test_split(iris.data, iris.target)\n",
    "\n",
    "#  3、训练模型\n",
    "model = SVC(probability=True)\n",
    "model.fit(x_train, y_train)\n",
    "y_predict = model.predict(x_test)\n",
    "\n",
    "print(\"分类报告：\")\n",
    "print(classification_report(y_test, y_predict,zero_division=1))"
   ]
  },
  {
   "cell_type": "code",
   "execution_count": 38,
   "id": "7e230cc2",
   "metadata": {},
   "outputs": [
    {
     "name": "stdout",
     "output_type": "stream",
     "text": [
      "CPU times: total: 21.7 s\n",
      "Wall time: 18.6 s\n",
      "{'svc__C': 5}\n",
      "分类报告：\n",
      "              precision    recall  f1-score   support\n",
      "\n",
      "           0       0.89      1.00      0.94      1668\n",
      "           1       1.00      0.87      0.93      1582\n",
      "\n",
      "    accuracy                           0.94      3250\n",
      "   macro avg       0.95      0.94      0.94      3250\n",
      "weighted avg       0.95      0.94      0.94      3250\n",
      "\n"
     ]
    }
   ],
   "source": [
    "from sklearn.decomposition import PCA\n",
    "from sklearn.pipeline import make_pipeline\n",
    "from sklearn.model_selection import GridSearchCV\n",
    "\n",
    "# 使用Pandas读取数据\n",
    "data=pd.read_csv('F:\\\\yanjiusheng\\\\汇报\\\\data\\\\mushroom\\\\agaricus-lepiota.data',header=None,sep=',')\n",
    "# print(data)\n",
    "\n",
    "\n",
    "mushData = pd.get_dummies(data)\n",
    "x_train, x_test, y_train, y_test = train_test_split(mushData.iloc[:,2:], mushData.iloc[:,1], train_size=0.6) \n",
    "\n",
    "mush_svm = SVC()\n",
    "\n",
    "pca = PCA(n_components=117, whiten=True, random_state=42)\n",
    "model = make_pipeline(pca, mush_svm)\n",
    "\n",
    "param_grid = {'svc__C':[1,2,5,10]}#设置的C可能的值是1，2，5，10，可以自由设置\n",
    "grid = GridSearchCV(model,param_grid)\n",
    "%time grid.fit(x_train, y_train)\n",
    "\n",
    "print(grid.best_params_)\n",
    "model=grid.best_estimator_\n",
    "\n",
    "y_predict=model.predict(x_test)\n",
    "\n",
    "print(\"分类报告：\")\n",
    "print(classification_report(y_test, y_predict,zero_division=1))"
   ]
  },
  {
   "cell_type": "code",
   "execution_count": null,
   "id": "fc52cda5",
   "metadata": {},
   "outputs": [],
   "source": []
  }
 ],
 "metadata": {
  "kernelspec": {
   "display_name": "Python 3 (ipykernel)",
   "language": "python",
   "name": "python3"
  },
  "language_info": {
   "codemirror_mode": {
    "name": "ipython",
    "version": 3
   },
   "file_extension": ".py",
   "mimetype": "text/x-python",
   "name": "python",
   "nbconvert_exporter": "python",
   "pygments_lexer": "ipython3",
   "version": "3.10.9"
  }
 },
 "nbformat": 4,
 "nbformat_minor": 5
}
